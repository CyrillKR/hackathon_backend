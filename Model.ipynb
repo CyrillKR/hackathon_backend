{
 "cells": [
  {
   "cell_type": "code",
   "execution_count": 1,
   "id": "30e83744",
   "metadata": {
    "ExecuteTime": {
     "end_time": "2022-01-12T15:41:56.424684Z",
     "start_time": "2022-01-12T15:41:55.825049Z"
    }
   },
   "outputs": [],
   "source": [
    "import pandas as pd"
   ]
  },
  {
   "cell_type": "code",
   "execution_count": 2,
   "id": "51452c17",
   "metadata": {
    "ExecuteTime": {
     "end_time": "2022-01-12T15:42:03.111811Z",
     "start_time": "2022-01-12T15:42:03.104806Z"
    }
   },
   "outputs": [],
   "source": [
    "columns = [\n",
    "    'user_id', 'role', 'first_name', 'last_name', 'picture', 'gender',\n",
    "    'birth_year', 'email', 'password', 'phone_number', 'bio',\n",
    "    'number_siblings', 'train', 'education', 'slow_songs_or_fast_songs',\n",
    "    'dance', 'folk', 'country', 'classical_music', 'musical', 'pop', 'rock',\n",
    "    'metal_or_hardrock', 'punk', 'hiphop_rap', 'reggae_ska', 'swing_jazz',\n",
    "    'rock_n_roll', 'alternative', 'latino', 'techno_trance', 'opera', 'horror',\n",
    "    'thriller', 'comedy', 'romantic', 'sci_fi', 'war', 'fantasy_fairy_tales',\n",
    "    'animated', 'documentary', 'western', 'action', 'mathematics', 'physics',\n",
    "    'biology', 'chemistry', 'medicine', 'geography', 'history', 'psychology',\n",
    "    'politics', 'economy', 'law', 'science_and_technology', 'internet', 'pc',\n",
    "    'art_exhibitions', 'theatre', 'dancing', 'musical_instruments', 'writing',\n",
    "    'reading', 'foreign_languages', 'cars', 'religion', 'gardening',\n",
    "    'celebrities', 'shopping', 'fun_with_friends', 'pets', 'sport', 'travel',\n",
    "    'flying', 'thunder_lightning', 'darkness', 'heights', 'spiders', 'snakes',\n",
    "    'rats_mice', 'aging', 'dangerous_dog', 'public_speaking', 'smoking',\n",
    "    'drinking', 'healthy_life_style', 'train'\n",
    "]"
   ]
  },
  {
   "cell_type": "code",
   "execution_count": 3,
   "id": "e6d2762f",
   "metadata": {
    "ExecuteTime": {
     "end_time": "2022-01-12T15:42:53.273531Z",
     "start_time": "2022-01-12T15:42:53.266642Z"
    }
   },
   "outputs": [],
   "source": [
    "columns_for_model = ['gender',\n",
    "    'birth_year', 'email', 'password', 'phone_number', 'bio',\n",
    "    'number_siblings', 'education', 'slow_songs_or_fast_songs',\n",
    "    'dance', 'folk', 'country', 'classical_music', 'musical', 'pop', 'rock',\n",
    "    'metal_or_hardrock', 'punk', 'hiphop_rap', 'reggae_ska', 'swing_jazz',\n",
    "    'rock_n_roll', 'alternative', 'latino', 'techno_trance', 'opera', 'horror',\n",
    "    'thriller', 'comedy', 'romantic', 'sci_fi', 'war', 'fantasy_fairy_tales',\n",
    "    'animated', 'documentary', 'western', 'action', 'mathematics', 'physics',\n",
    "    'biology', 'chemistry', 'medicine', 'geography', 'history', 'psychology',\n",
    "    'politics', 'economy', 'law', 'science_and_technology', 'internet', 'pc',\n",
    "    'art_exhibitions', 'theatre', 'dancing', 'musical_instruments', 'writing',\n",
    "    'reading', 'foreign_languages', 'cars', 'religion', 'gardening',\n",
    "    'celebrities', 'shopping', 'fun_with_friends', 'pets', 'sport', 'travel',\n",
    "    'flying', 'thunder_lightning', 'darkness', 'heights', 'spiders', 'snakes',\n",
    "    'rats_mice', 'aging', 'dangerous_dog', 'public_speaking', 'smoking',\n",
    "    'drinking', 'healthy_life_style']"
   ]
  },
  {
   "cell_type": "code",
   "execution_count": 5,
   "id": "a0e7408e",
   "metadata": {
    "ExecuteTime": {
     "end_time": "2022-01-12T15:46:46.043545Z",
     "start_time": "2022-01-12T15:46:45.582495Z"
    }
   },
   "outputs": [],
   "source": [
    "import pymysql.cursors\n",
    "from dotenv import load_dotenv\n",
    "import os\n",
    "load_dotenv()"
   ]
  },
  {
   "cell_type": "code",
   "execution_count": null,
   "id": "816a275c",
   "metadata": {},
   "outputs": [],
   "source": [
    "pswd = os.getenv(\"password\")\n",
    "connection = pymysql.connect(host='localhost',\n",
    "                             user='root',\n",
    "                             password=pswd,\n",
    "                             cursorclass=pymysql.cursors.DictCursor)\n",
    "cursor = connection.cursor()"
   ]
  },
  {
   "cell_type": "code",
   "execution_count": null,
   "id": "f7945e5d",
   "metadata": {},
   "outputs": [],
   "source": [
    "query = \"USE porto;\"\n",
    "cursor.execute(query)"
   ]
  },
  {
   "cell_type": "code",
   "execution_count": null,
   "id": "1fb436d3",
   "metadata": {},
   "outputs": [],
   "source": [
    "def get_subdf(train_nr):\n",
    "    query = f\"\"\"SELECT * FROM name_table\n",
    "            WHERE train == {train_nr};\"\"\"\n",
    "    cursor.execute(query)\n",
    "    trips = [(row['user_id'],row['gender'],\n",
    "    row['birth_year'], row['email'], row['password'], row['phone_number'], row['bio'],\n",
    "    row['number_siblings'], row['education'], row['slow_songs_or_fast_songs'],\n",
    "    row['dance'], row['folk'], row['country'], row['classical_music'], row['musical'], row['pop'], row['rock'],\n",
    "    row['metal_or_hardrock'], row['punk'], row['hiphop_rap'], row['reggae_ska'], row['swing_jazz'],\n",
    "    row['rock_n_roll'], row['alternative'], row['latino'], row['techno_trance'], row['opera'], row['horror'],\n",
    "    row['thriller'], row['comedy'], row['romantic'], row['sci_fi'], row['war'], row['fantasy_fairy_tales'],\n",
    "    row['animated'], row['documentary'], row['western'], row['action'], row['mathematics'], row['physics'],\n",
    "    row['biology'], row['chemistry'], row['medicine'], row['geography'], row['history'], row['psychology'],\n",
    "    row['politics'], row['economy'], row['law', 'science_and_technology'], row['internet'], row['pc'],\n",
    "    row['art_exhibitions'], row['theatre'], row['dancing'], row['musical_instruments'], row['writing'],\n",
    "    row['reading'], row['foreign_languages'], row['cars'], row['religion'], row['gardening'],\n",
    "    row['celebrities'], row['shopping'], row['fun_with_friends'], row['pets'], row['sport'], row['travel'],\n",
    "    row['flying'], row['thunder_lightning'], row['darkness'], row['heights'], row['spiders'], row['snakes'],\n",
    "    row['rats_mice'], row['aging', 'dangerous_dog'], row['public_speaking'], row['smoking'],\n",
    "    row['drinking'], row['healthy_life_style'])\n",
    "             for row in cursor.fetchall()]\n",
    "    \n",
    "    \n",
    "    df = pd.DataFrame(trips,\n",
    "                     columns=['user_id','gender',\n",
    "    'birth_year', 'email', 'password', 'phone_number', 'bio',\n",
    "    'number_siblings', 'education', 'slow_songs_or_fast_songs',\n",
    "    'dance', 'folk', 'country', 'classical_music', 'musical', 'pop', 'rock',\n",
    "    'metal_or_hardrock', 'punk', 'hiphop_rap', 'reggae_ska', 'swing_jazz',\n",
    "    'rock_n_roll', 'alternative', 'latino', 'techno_trance', 'opera', 'horror',\n",
    "    'thriller', 'comedy', 'romantic', 'sci_fi', 'war', 'fantasy_fairy_tales',\n",
    "    'animated', 'documentary', 'western', 'action', 'mathematics', 'physics',\n",
    "    'biology', 'chemistry', 'medicine', 'geography', 'history', 'psychology',\n",
    "    'politics', 'economy', 'law', 'science_and_technology', 'internet', 'pc',\n",
    "    'art_exhibitions', 'theatre', 'dancing', 'musical_instruments', 'writing',\n",
    "    'reading', 'foreign_languages', 'cars', 'religion', 'gardening',\n",
    "    'celebrities', 'shopping', 'fun_with_friends', 'pets', 'sport', 'travel',\n",
    "    'flying', 'thunder_lightning', 'darkness', 'heights', 'spiders', 'snakes',\n",
    "    'rats_mice', 'aging', 'dangerous_dog', 'public_speaking', 'smoking',\n",
    "    'drinking', 'healthy_life_style'])\n",
    "    \n",
    "    df.set_index('user_id')"
   ]
  },
  {
   "cell_type": "code",
   "execution_count": 4,
   "id": "a731485a",
   "metadata": {
    "ExecuteTime": {
     "end_time": "2022-01-12T15:43:57.632061Z",
     "start_time": "2022-01-12T15:43:57.363372Z"
    }
   },
   "outputs": [],
   "source": [
    "from scipy import spatial"
   ]
  },
  {
   "cell_type": "code",
   "execution_count": null,
   "id": "76b8158d",
   "metadata": {},
   "outputs": [],
   "source": [
    "class Nearest_User:\n",
    "    def __init__(self, df, user_id):\n",
    "        self.user_id = user_id\n",
    "        self.df = df \n",
    "        self.row_user = df.loc[user_id]\n",
    "    def predict_one_row(self,row):\n",
    "        similarities = 1 - spatial.distance.cosine(self.row_user,self.df)\n",
    "        df['similarities'] = similarities\n",
    "        df = df.sort_values(by='similarities',ascending=False)\n",
    "        return "
   ]
  },
  {
   "cell_type": "code",
   "execution_count": null,
   "id": "b69962c8",
   "metadata": {},
   "outputs": [],
   "source": []
  }
 ],
 "metadata": {
  "kernelspec": {
   "display_name": "Python 3 (ipykernel)",
   "language": "python",
   "name": "python3"
  },
  "language_info": {
   "codemirror_mode": {
    "name": "ipython",
    "version": 3
   },
   "file_extension": ".py",
   "mimetype": "text/x-python",
   "name": "python",
   "nbconvert_exporter": "python",
   "pygments_lexer": "ipython3",
   "version": "3.8.2"
  },
  "toc": {
   "base_numbering": 1,
   "nav_menu": {},
   "number_sections": true,
   "sideBar": true,
   "skip_h1_title": false,
   "title_cell": "Table of Contents",
   "title_sidebar": "Contents",
   "toc_cell": false,
   "toc_position": {},
   "toc_section_display": true,
   "toc_window_display": false
  }
 },
 "nbformat": 4,
 "nbformat_minor": 5
}
